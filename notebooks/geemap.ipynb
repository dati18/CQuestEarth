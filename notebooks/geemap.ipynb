{
 "cells": [
  {
   "cell_type": "code",
   "execution_count": 11,
   "metadata": {
    "scrolled": false
   },
   "outputs": [],
   "source": [
    "import geemap\n",
    "from collection_config import veg_indices\n",
    "from ipyleaflet import WidgetControl, Marker, DrawControl, Icon, Polygon, GeoJSON\n",
    "from ipywidgets import Dropdown, Button, Output, Accordion, Layout, Label, VBox\n",
    "import ee\n",
    "from bqplot import pyplot as plt\n",
    "from datetime import datetime\n",
    "from geopy.geocoders import Nominatim\n",
    "import shapely\n",
    "import json\n",
    "import geojson\n",
    "import copy\n",
    "import numpy"
   ]
  },
  {
   "cell_type": "markdown",
   "metadata": {},
   "source": [
    "## Cquest Earth App"
   ]
  },
  {
   "cell_type": "code",
   "execution_count": 12,
   "metadata": {
    "scrolled": false
   },
   "outputs": [],
   "source": [
    "m = geemap.Map(center=(52.6, 13.4), \n",
    "                 zoom=4,\n",
    "                 add_google_map = False,\n",
    "                 layer_ctrl = False,\n",
    "                 fullscreen_ctrl = True,            \n",
    "                 data_ctrl = False,\n",
    "                 zoom_ctrl = True,\n",
    "                 draw_ctrl = False,\n",
    "                 search_ctrl = False,\n",
    "                 measure_ctrl = False,\n",
    "                 scale_ctrl = False,\n",
    "                 toolbar_ctrl = False,\n",
    "                 attribution_ctrl= False\n",
    "              )"
   ]
  },
  {
   "cell_type": "code",
   "execution_count": 13,
   "metadata": {
    "scrolled": true
   },
   "outputs": [],
   "source": [
    "#v0.1.0: Map with different layers of datasets\n",
    "#geemap: addLayer(), ipyleaflet: add_layer() -> both work\n",
    "for dataset in veg_indices:\n",
    "    m.addLayer(veg_indices[dataset]['visual'], \n",
    "               veg_indices[dataset]['vis_params'],\n",
    "               dataset, True, 0)\n",
    "m.layer_opacity('MODIS NDVI (250m)', 0.7)"
   ]
  },
  {
   "cell_type": "code",
   "execution_count": 14,
   "metadata": {
    "scrolled": false
   },
   "outputs": [],
   "source": [
    "#v0.2.0: LAYER SELECTION\n",
    "#Options list is the list that holds options of layers selection box\n",
    "options_list = []\n",
    "for layer in m.layers:\n",
    "    options_list.append(layer.name)\n",
    "options_list.remove(options_list[0]) #remove the first layer's name from the list because it is the basemap layer\n",
    "\n",
    "# Adds a Dropdown widget for layers selection\n",
    "layers_selection = Dropdown(\n",
    "    options=options_list,\n",
    "    description='Dataset'\n",
    ")\n",
    "\n",
    "# Handles Dropdown control event\n",
    "def on_click(change):\n",
    "    old_layer_name = change['old']\n",
    "    new_layer_name = change['new']\n",
    "    m.layer_opacity(old_layer_name, 0)\n",
    "    m.layer_opacity(new_layer_name, 0.7)\n",
    "#ipywidgets Dropdown function observe()\n",
    "layers_selection.observe(on_click, 'value')\n",
    "# basemap_control = WidgetControl(widget=layers_selection, position='topleft')"
   ]
  },
  {
   "cell_type": "code",
   "execution_count": 15,
   "metadata": {},
   "outputs": [],
   "source": [
    "#necessary variables for drawing geometries on the map\n",
    "geom_list = []  #List of geometries on the map\n",
    "ee_object_list = []  #List of geometries as ee object\n",
    "####\n",
    "icon = Icon(icon_url=\"https://img.icons8.com/ultraviolet/40/000000/marker.png\", \n",
    "            icon_size = [40, 40], \n",
    "            icon_anchor = [20, 40])"
   ]
  },
  {
   "cell_type": "code",
   "execution_count": 16,
   "metadata": {},
   "outputs": [],
   "source": [
    "#v0.3.0: DRAWING GEOMETRIES ON THE MAP\n",
    "#Drawing geometries on the map\n",
    "dc = DrawControl(marker={'shapeOptions': {'iconUrl':\"https://img.icons8.com/office/80/000000/marker.png\"}},\n",
    "                 polygon={'shapeOptions': {'color': '#19cdff'}},\n",
    "                 rectangle={},\n",
    "                 circle={},\n",
    "                 circlemarker={},\n",
    "                 polyline={},\n",
    "                 remove=False,\n",
    "                 edit=False)\n",
    "\n",
    "def handle_draw(target, action, geo_json):\n",
    "    drawType = geo_json['geometry']['type']\n",
    "    latlon = geo_json['geometry']['coordinates']\n",
    "    #Handle point event\n",
    "    if drawType == 'Point':\n",
    "        point = ee.Geometry.Point(latlon)\n",
    "        ee_object_list.append(point)\n",
    "        coordinates = copy.deepcopy(latlon)\n",
    "        coordinates.reverse()\n",
    "        location = locator.reverse(coordinates)\n",
    "        marker = Marker(location = coordinates, \n",
    "                        icon = icon, \n",
    "                        draggable = False, \n",
    "                        title = location.address)\n",
    "        geom_list.append(marker)\n",
    "        m.add_layer(marker)\n",
    "    #Handle polygon event\n",
    "    elif drawType == 'Polygon':\n",
    "        ee_polygon = ee.Geometry.Polygon(latlon)\n",
    "        ee_object_list.append(ee_polygon)\n",
    "        coordinates = copy.deepcopy(latlon[0])\n",
    "        for coord in coordinates:\n",
    "            coord.reverse()\n",
    "        polygon = Polygon(locations = coordinates, color = '#19cdff', fillColor = 'blue')\n",
    "        geom_list.append(polygon)\n",
    "        m.add_layer(polygon)  \n",
    "    #clear drawing features\n",
    "    dc.clear()\n",
    "    #condition to limit the number of geometries\n",
    "    if len(geom_list) == 3:\n",
    "        m.remove_layer(geom_list[0])\n",
    "        del geom_list[0]\n",
    "    if len(ee_object_list) ==3:\n",
    "        del ee_object_list[0]\n",
    "#ipyleaflet function on_draw() to handle drawing event\n",
    "dc.on_draw(handle_draw)"
   ]
  },
  {
   "cell_type": "code",
   "execution_count": 17,
   "metadata": {},
   "outputs": [],
   "source": [
    "#delete all drawing features on the map\n",
    "reset_button = Button(icon='trash', \n",
    "                      disabled=False,\n",
    "                      tooltip='Delete all geometries, plots and outputs',\n",
    "                      layout=Layout(width='30px',height='30px')\n",
    "                     )\n",
    "reset_control = WidgetControl(widget=reset_button, \n",
    "                              position='topleft')\n",
    "def on_button_clicked(b):\n",
    "    plt.clear()\n",
    "    plot_widget.clear_output()\n",
    "    [m.remove_layer(layer) for layer in geom_list]\n",
    "    geom_list.clear()\n",
    "    ee_object_list.clear()\n",
    "reset_button.on_click(on_button_clicked)"
   ]
  },
  {
   "cell_type": "code",
   "execution_count": 18,
   "metadata": {},
   "outputs": [],
   "source": [
    "#remove NONE from dict function\n",
    "def drop_null_from_dict(ts_aoi):\n",
    "    filtered = {k: v for k, v in ts_aoi.items() if v is not None}\n",
    "    ts_aoi.clear()\n",
    "    ts_aoi.update(filtered)\n",
    "    return ts_aoi\n",
    "\n",
    "#convert timestamps\n",
    "def timeStampsToString(timestamps):\n",
    "    return ee.Date(timestamps).format(\"YYYY-MM-dd\")"
   ]
  },
  {
   "cell_type": "code",
   "execution_count": 19,
   "metadata": {
    "scrolled": true
   },
   "outputs": [],
   "source": [
    "#v0.4.0 & v0.5.0: FETCH DATA FROM GEOMETRIES AND PLOT TIME-SERIES\n",
    "options_list2 = ['...','MODIS NDVI (250m)','MODIS EVI (250m)','MODIS GPP (500m)','MODIS NPP (500m)','MODIS LAI (500m)','LANDSAT 7 NDVI (30m)','LANDSAT 7 EVI (30m)']\n",
    "chart_selection =  Dropdown(\n",
    "    options=options_list2,\n",
    "    description=\"Dataset\"\n",
    ")\n",
    "\n",
    "#\"Output\"-box to display chart\n",
    "plot_widget = Output(layout={'border':'1px solid black'})\n",
    "plot_output = WidgetControl(widget=plot_widget,\n",
    "                            position='topright')\n",
    "\n",
    "#Handle select event\n",
    "locator = Nominatim(user_agent=\"myGeocoder\")\n",
    "legend = ['\\U0001F535', '\\U0001F534']\n",
    "def on_chart_clicked(change):\n",
    "    with plot_widget:\n",
    "        try:\n",
    "            plt.clear()\n",
    "            plot_widget.clear_output()\n",
    "            print(\"LOADING . . .\")\n",
    "            chart_option=change['new']\n",
    "            collection = veg_indices[chart_option]['collection']\n",
    "            resolution = veg_indices[chart_option]['resolution']\n",
    "            band = veg_indices[chart_option]['band']\n",
    "            timestamps = collection.aggregate_array(\"system:time_start\")\n",
    "            date_strings = timestamps.map(timeStampsToString)\n",
    "            stacked_image = collection.select(band).toBands().rename(date_strings)\n",
    "            title = chart_option + ' Time-Series'\n",
    "            plt.figure(1, title = title)\n",
    "            for geom in ee_object_list:\n",
    "                ts_aoi = ee.Image(stacked_image).reduceRegion(reducer=ee.Reducer.mean(),\n",
    "                                                              geometry = geom,\n",
    "                                                              scale = resolution,\n",
    "                                                              bestEffort = True).getInfo()\n",
    "                ts_aoi = drop_null_from_dict(ts_aoi)\n",
    "                xValues = numpy.asarray(list(ts_aoi.keys()), dtype = 'datetime64[D]')\n",
    "                yValues = numpy.asarray(list(ts_aoi.values()))\n",
    "                if ee_object_list.index(geom) == 0:\n",
    "                    plt.plot(xValues, yValues, '-b')\n",
    "                if ee_object_list.index(geom) == 1:\n",
    "                    plt.plot(xValues, yValues, '-r')\n",
    "            plt.ylabel(label=veg_indices[chart_option]['unit'])\n",
    "            plot_widget.clear_output()\n",
    "            plt.show()\n",
    "        except Exception as e:\n",
    "            plot_widget.clear_output()\n",
    "            print(\"Failed to create plot :(\")\n",
    "            raise Exception(e)\n",
    "        for geom, legend_symbol in zip(geom_list, legend):\n",
    "            place_name = None\n",
    "            if type(geom) == Polygon:\n",
    "                poly_coords = geom.locations\n",
    "                poly = shapely.geometry.Polygon(poly_coords)\n",
    "                poly_centre = poly.centroid\n",
    "                location = locator.reverse([poly_centre.x, poly_centre.y])\n",
    "                place_name = location.address\n",
    "            elif type(geom) == Marker:\n",
    "                point_coords = geom.location\n",
    "                location = locator.reverse(point_coords)\n",
    "                place_name = location.address\n",
    "            print(f\"{legend_symbol} {place_name}\")\n",
    "chart_selection.observe(on_chart_clicked, 'value')"
   ]
  },
  {
   "cell_type": "code",
   "execution_count": 20,
   "metadata": {},
   "outputs": [],
   "source": [
    "#v0.6.0: soidgrid data\n",
    "options_list3 = ['...','Organic carbon density', 'Organic carbon stock', 'Soil organic carbon']\n",
    "soilgrid_selection = Dropdown(\n",
    "    options = options_list3,\n",
    "    description='Dataset'\n",
    ")\n",
    "def soilgrid_on_clicked(change):\n",
    "    with plot_widget:\n",
    "        plot_widget.clear_output()\n",
    "        layers = m.ee_layers\n",
    "        soilgrid_option=change['new']\n",
    "        soilgrid_layer = ee.Image(veg_indices[soilgrid_option]['collection'])\n",
    "        sample_scale = m.getScale()\n",
    "        for geom, ee_object in zip(geom_list, ee_object_list):\n",
    "            if type(geom) == Polygon:\n",
    "                latlon = geom.locations\n",
    "            elif type(geom) == Marker:\n",
    "                latlon = geom.location\n",
    "            place_name = None\n",
    "            if type(geom) == Polygon:\n",
    "                poly_coords = geom.locations\n",
    "                poly = shapely.geometry.Polygon(poly_coords)\n",
    "                poly_centre = poly.centroid\n",
    "                location = locator.reverse([poly_centre.x, poly_centre.y])\n",
    "                place_name = location.address\n",
    "            elif type(geom) == Marker:\n",
    "                point_coords = geom.location\n",
    "                location = locator.reverse(point_coords)\n",
    "                place_name = location.address\n",
    "            soil_value = soilgrid_layer.reduceRegion(\n",
    "                reducer=ee.Reducer.mean(),\n",
    "                geometry = ee_object,\n",
    "                scale = sample_scale,\n",
    "                bestEffort = True).getInfo()\n",
    "            print(f\"\\U0001F310 {place_name}:\")\n",
    "            if soilgrid_option == 'Organic carbon density':\n",
    "                print(f\"0-5cm mean: {soil_value['ocd_0-5cm_mean']:.2f}\")\n",
    "                print(f\"5-15cm mean: {soil_value['ocd_5-15cm_mean']:.2f}\")\n",
    "                print(f\"15-30cm mean: {soil_value['ocd_15-30cm_mean']:.2f}\")\n",
    "                print(f\"30-60cm mean: {soil_value['ocd_30-60cm_mean']:.2f}\")\n",
    "                print(f\"60-100cm mean: {soil_value['ocd_60-100cm_mean']:.2f}\")\n",
    "                print(f\"100-200cm mean: {soil_value['ocd_100-200cm_mean']:.2f}\")\n",
    "            elif soilgrid_option == 'Organic carbon stock':\n",
    "                print(f\"0-30cm mean: {soil_value['ocs_0-30cm_mean']:.2f}\")\n",
    "            elif soilgrid_option == 'Soil organic carbon':\n",
    "                print(f\"0-5cm mean: {soil_value['soc_0-5cm_mean']:.2f}\")\n",
    "                print(f\"5-15cm mean: {soil_value['soc_5-15cm_mean']:.2f}\")\n",
    "                print(f\"15-30cm mean: {soil_value['soc_15-30cm_mean']:.2f}\")\n",
    "                print(f\"30-60cm mean: {soil_value['soc_30-60cm_mean']:.2f}\")\n",
    "                print(f\"60-100cm mean: {soil_value['soc_60-100cm_mean']:.2f}\")\n",
    "                print(f\"100-200cm mean: {soil_value['soc_100-200cm_mean']:.2f}\")\n",
    "soilgrid_selection.observe(soilgrid_on_clicked, 'value')"
   ]
  },
  {
   "cell_type": "code",
   "execution_count": 21,
   "metadata": {},
   "outputs": [],
   "source": [
    "instructions = VBox(\n",
    "    [Label('Please, place one or two geometries on the map before selecting a dataset for the chart.'),\n",
    "     Label('Select either the marker or polygon symbol on the right and draw on the map.')]\n",
    ")\n",
    "#Accordion widgets to hold other widgets\n",
    "menu = Accordion(children=[layers_selection, chart_selection, soilgrid_selection, instructions])\n",
    "menu.set_title(0, \"Layer Selection\")\n",
    "menu.set_title(1, \"Time-Series Chart\")\n",
    "menu.set_title(2, \"Soilgrid data\")\n",
    "menu.set_title(3, \"Help\")\n",
    "chart_control = WidgetControl(widget=menu, position='topright')"
   ]
  },
  {
   "cell_type": "code",
   "execution_count": 22,
   "metadata": {},
   "outputs": [],
   "source": [
    "# m.add_control(basemap_control)\n",
    "#ipleaflet function add_control() -> add widgets from ipywidgets to map\n",
    "m.add_control(dc)\n",
    "m.add_control(chart_control)\n",
    "m.add_control(reset_control)\n",
    "m.add_control(plot_output)"
   ]
  },
  {
   "cell_type": "code",
   "execution_count": 23,
   "metadata": {
    "scrolled": false
   },
   "outputs": [
    {
     "data": {
      "application/vnd.jupyter.widget-view+json": {
       "model_id": "a4c2ee733df8401eadddb1536da48cb1",
       "version_major": 2,
       "version_minor": 0
      },
      "text/plain": [
       "Map(center=[52.6, 13.4], controls=(ZoomControl(options=['position', 'zoom_in_text', 'zoom_in_title', 'zoom_out…"
      ]
     },
     "metadata": {},
     "output_type": "display_data"
    }
   ],
   "source": [
    "m"
   ]
  },
  {
   "cell_type": "code",
   "execution_count": null,
   "metadata": {},
   "outputs": [],
   "source": []
  }
 ],
 "metadata": {
  "kernelspec": {
   "display_name": "Python 3",
   "language": "python",
   "name": "python3"
  }
 },
 "nbformat": 4,
 "nbformat_minor": 4
}
